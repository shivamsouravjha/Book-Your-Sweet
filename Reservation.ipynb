{
 "cells": [
  {
   "cell_type": "code",
   "execution_count": 75,
   "id": "failing-section",
   "metadata": {},
   "outputs": [],
   "source": [
    "#The Idea of Project.\n",
    "# 1) User is asked to indentify themselves as Customer or Hotel.\n",
    "#     a)If Hotel\n",
    "#          A)Asked to insert Hotel Name.\n",
    "#               1.a)IF already exists:- Asked to Rename,and displayed the taken names.\n",
    "#               1.b)IF Does'nt exists:\n",
    "#                     1.A)Register the hotel and set the unique key.\n",
    "#                     1.B)Take input the number of rooms and add it to the unique key Rooms HSET.\n",
    "#                          1.1.a)Show the Hotel Name and Code.\n",
    "#     b)If Customer\n",
    "#          A)Looking For Availibility\n",
    "#                1.a)Input the Name of Hotel,get the unique key,check for Rooms available.\n",
    "#                    1.A)If not available,output not availble\n",
    "#                    1.B)If available,output number of Rooms.\n",
    "#          B)Looking to Book\n",
    "#                1.a)Existing User.\n",
    "#                    1.A)Input the username and book in the hotel interested.\n",
    "#                1.b)NOn-existing User.\n",
    "#                    1.A)Register user in User_list  and get the unique ID.\n",
    "#                    1.B)Ask for the interested Hotel.\n",
    "#                         1.1.a)Book the room if available.\n",
    "#                         1.1.b)Apologise if no vacancy.\n",
    "#          C)Get List of Hotels\n",
    "#                1.a)Get the list of all hotels with their unique code.\n",
    "#\n",
    "##Side Functions- clear_space to delete everthing and save space.\n",
    "##                get_all to get all the 4 hashsets."
   ]
  },
  {
   "cell_type": "code",
   "execution_count": 3,
   "id": "dental-banner",
   "metadata": {},
   "outputs": [
    {
     "name": "stdout",
     "output_type": "stream",
     "text": [
      "Requirement already satisfied: redis in c:\\users\\91776\\appdata\\local\\programs\\python\\python38\\lib\\site-packages (3.5.3)Note: you may need to restart the kernel to use updated packages.\n",
      "\n"
     ]
    }
   ],
   "source": [
    "pip install redis\n"
   ]
  },
  {
   "cell_type": "code",
   "execution_count": 4,
   "id": "annoying-enough",
   "metadata": {},
   "outputs": [],
   "source": [
    "import redis"
   ]
  },
  {
   "cell_type": "code",
   "execution_count": 5,
   "id": "secure-underground",
   "metadata": {},
   "outputs": [],
   "source": [
    "r=redis.StrictRedis(host=\"localhost\", port=6379, charset=\"utf-8\", decode_responses=True)\n"
   ]
  },
  {
   "cell_type": "code",
   "execution_count": 65,
   "id": "arabic-taylor",
   "metadata": {},
   "outputs": [],
   "source": [
    "def register_at_Registration_Office(hotel_name):\n",
    "    run=True\n",
    "    while run:\n",
    "        if r.hexists('Registration_Office',hotel_name):\n",
    "            print('Hotel Name is already Registered with us,please try to rename.')\n",
    "            hotel_name=input('Enter New Name Please')\n",
    "        else:\n",
    "            print('Congrats! Name is Available')\n",
    "            r.hset('Registration_Office',hotel_name,hotel_name+'616')\n",
    "            number_of_rooms=input('Tell the bed space possible')\n",
    "            r.hset('Room_list',hotel_name+'616',number_of_rooms)\n",
    "            print('Congrats You are registerd with us ')\n",
    "            print('Your unique Hotel Code is'+r.hget('Registration_Office',hotel_name))\n",
    "            run=False"
   ]
  },
  {
   "cell_type": "code",
   "execution_count": 66,
   "id": "julian-crawford",
   "metadata": {},
   "outputs": [],
   "source": [
    "def hotel_to_BOOK(interested_hotel,username):\n",
    "    if r.hexists('Registration_Office',interested_hotel):\n",
    "        m=r.hget('Registration_Office',interested_hotel)\n",
    "        if r.hget('Room_list',m):\n",
    "            old_number=r.hget('Room_list',m)\n",
    "            old_number=int(old_number)\n",
    "            r.hset('Room_list',m,old_number-1)\n",
    "            r.hset('User_booking_Room',username,m)\n",
    "            print('ticket booked ')\n",
    "        else:\n",
    "            print('No vacancy Try something else. ')\n",
    "            \n",
    "    else:\n",
    "        print('no such Hotel exists please try again. ')"
   ]
  },
  {
   "cell_type": "code",
   "execution_count": 67,
   "id": "described-garden",
   "metadata": {},
   "outputs": [],
   "source": [
    "def user_registers():\n",
    "    username=input('Name Yourself ')\n",
    "    run=True\n",
    "    while run:\n",
    "        if r.hexists('user_list',username):\n",
    "            print('Name taken please enter something else')\n",
    "            username=input('New Name')\n",
    "        else:\n",
    "            r.hset('user_list',username,username+'676')\n",
    "            return  r.hget('user_list',username)      "
   ]
  },
  {
   "cell_type": "code",
   "execution_count": 68,
   "id": "hollow-marathon",
   "metadata": {},
   "outputs": [],
   "source": [
    "def clear_space():\n",
    "    r.delete('Registration_Office')\n",
    "    r.delete('Room_list')\n",
    "    r.delete('user_list')\n",
    "    r.delete('User_booking_Room')"
   ]
  },
  {
   "cell_type": "code",
   "execution_count": 69,
   "id": "introductory-samoa",
   "metadata": {},
   "outputs": [],
   "source": [
    "def get_all():\n",
    "    print('The Registered OFfices are '+str(r.hgetall('Registration_Office')))\n",
    "    print('The hotel code with available seats '+str(r.hgetall('Room_list')))\n",
    "    print('User DATA with unique code '+str(r.hgetall('user_list')))\n",
    "    print('The user code with number of rooms booked '+str(r.hgetall('User_booking_Room')))"
   ]
  },
  {
   "cell_type": "code",
   "execution_count": 70,
   "id": "alike-gravity",
   "metadata": {},
   "outputs": [],
   "source": [
    "def start():\n",
    "    print('What are you? ')\n",
    "    print('1)-Hotel')\n",
    "    print('2)-Customer')\n",
    "    typeofuser=int(input())\n",
    "    if typeofuser==1:\n",
    "        print('Hello User! Let use together walk the lane of registration')\n",
    "        propsed_name=input('Please tell your propsed name')\n",
    "        register_at_Registration_Office(propsed_name)\n",
    "    elif typeofuser==2:\n",
    "        print('What You Looking for?')\n",
    "        print('1) Looking For Availibility?')\n",
    "        print('2) Looking to Book?')\n",
    "        print('3) Get List of Hotels')\n",
    "        user=int(input())\n",
    "        if user==1:\n",
    "            print('Tell the name of Hotel')\n",
    "            hotelname=input('Enter the Hotel Name')\n",
    "            hotelid=r.hget('Registration_Office',hotelname)\n",
    "            no_room=int(r.hget('Room_list',hotelid))\n",
    "            if no_room==0:\n",
    "                print('Sorry No Room inhere')\n",
    "            else:\n",
    "                print('The Hotel has '+str(no_room)+' free rooms')\n",
    "        elif user==2:\n",
    "            print('Have you already booked any hotel?')\n",
    "            print('1) for Yes')\n",
    "            print('2) for No')\n",
    "            user=int(input())\n",
    "            if user==1:\n",
    "                print('Register Yourself With Us')\n",
    "                userid=input('Enter the UserID')\n",
    "                hotel_name=input('Enter The Hotel You Want To stay')\n",
    "                hotel_to_BOOK(hotel_name,userid)\n",
    "            elif user==2:\n",
    "                print('Register Yourself With Us')\n",
    "                username = user_registers()\n",
    "                hotel_name=input('Enter The Hotel You Want To stay')\n",
    "                hotel_to_BOOK(hotel_name,username)\n",
    "            else:\n",
    "                print('Enter Valid Number')\n",
    "        elif user==3:\n",
    "            print(\"The list of Hotels With their code\"+str(r.hgetall('Registration_Office')))\n",
    "    else:\n",
    "        print('None Corrected Please Decide You want to leave or edit')\n",
    "        "
   ]
  },
  {
   "cell_type": "code",
   "execution_count": 71,
   "id": "experimental-polymer",
   "metadata": {},
   "outputs": [
    {
     "data": {
      "text/plain": [
       "0"
      ]
     },
     "execution_count": 71,
     "metadata": {},
     "output_type": "execute_result"
    }
   ],
   "source": [
    "r.hset('Registration_Office','Ritz-Carlton Hotel',1)\n",
    "r.hset('Registration_Office','Marriott',2)\n",
    "r.hset('Registration_Office','The Luxury Collection Hotels & Resorts',3)\n",
    "r.hset('Registration_Office','St Regis Hotels',4)\n",
    "r.hset('Registration_Office','Four Seasons',5)\n",
    "r.hset('Registration_Office','Rosewood Hotels & Resorts.',6)\n",
    "r.hset('Registration_Office','Hyatt',7)\n",
    "r.hset('Registration_Office','Hotel Joy Stick',8)\n",
    "r.hset('Registration_Office','Hotel Vitality',9)"
   ]
  },
  {
   "cell_type": "code",
   "execution_count": 72,
   "id": "obvious-filling",
   "metadata": {},
   "outputs": [],
   "source": [
    "hotel_strength_list={1:200,2:300,3:400,4:435,5:67,6:654,7:4334,8:432,9:323}"
   ]
  },
  {
   "cell_type": "code",
   "execution_count": 15,
   "id": "settled-reduction",
   "metadata": {},
   "outputs": [
    {
     "name": "stderr",
     "output_type": "stream",
     "text": [
      "<ipython-input-15-796e7ca6e3a6>:1: DeprecationWarning: Redis.hmset() is deprecated. Use Redis.hset() instead.\n",
      "  r.hmset('Room_list',hotel_strength_list)\n"
     ]
    },
    {
     "data": {
      "text/plain": [
       "True"
      ]
     },
     "execution_count": 15,
     "metadata": {},
     "output_type": "execute_result"
    }
   ],
   "source": [
    "r.hmset('Room_list',hotel_strength_list)"
   ]
  },
  {
   "cell_type": "code",
   "execution_count": 73,
   "id": "higher-breeding",
   "metadata": {
    "scrolled": true
   },
   "outputs": [
    {
     "name": "stdout",
     "output_type": "stream",
     "text": [
      "What are you? \n",
      "1)-Hotel\n",
      "2)-Customer\n",
      "2\n",
      "What You Looking for?\n",
      "1) Looking For Availibility?\n",
      "2) Looking to Book?\n",
      "3) Get List of Hotels\n",
      "2\n",
      "Have you already booked any hotel?\n",
      "1) for Yes\n",
      "2) for No\n",
      "1\n",
      "Register Yourself With Us\n",
      "Enter the UserIDshivam676\n",
      "Enter The Hotel You Want To stayMarriott\n",
      "ticket booked \n",
      "To exit press 0 or Anyother number to continue 0\n"
     ]
    }
   ],
   "source": [
    "running=True\n",
    "while running:\n",
    "    if running:\n",
    "        start()\n",
    "    x=int(input('To exit press 0 or Anyother number to continue '))\n",
    "    \n",
    "    if x==0:\n",
    "        running=False\n"
   ]
  },
  {
   "cell_type": "code",
   "execution_count": 76,
   "id": "silver-nowhere",
   "metadata": {},
   "outputs": [
    {
     "name": "stdout",
     "output_type": "stream",
     "text": [
      "The Registered OFfices are {'Ritz-Carlton Hotel': '1', 'Marriott': '2', 'The Luxury Collection Hotels & Resorts': '3', 'St Regis Hotels': '4', 'Four Seasons': '5', 'Rosewood Hotels & Resorts.': '6', 'Hyatt': '7', 'Hotel Joy Stick': '8', 'Hotel Vitality': '9', 'Hotel AA': 'Hotel AA616', 'Hotel MJ': 'Hotel MJ616'}\n",
      "The hotel code with available seats {'1': '200', '2': '298', '3': '400', '4': '435', '5': '67', '6': '654', '7': '4334', '8': '432', '9': '323', 'Hotel AA616': '250', 'Hotel MJ616': '250'}\n",
      "User DATA with unique code {'Shivam': 'Shivam676'}\n",
      "The user code with number of rooms booked {'Shivam676': '2', 'shivam676': '2'}\n"
     ]
    }
   ],
   "source": [
    "get_all()"
   ]
  },
  {
   "cell_type": "code",
   "execution_count": 78,
   "id": "functioning-island",
   "metadata": {},
   "outputs": [],
   "source": [
    "clear_space()"
   ]
  }
 ],
 "metadata": {
  "kernelspec": {
   "display_name": "Python 3",
   "language": "python",
   "name": "python3"
  },
  "language_info": {
   "codemirror_mode": {
    "name": "ipython",
    "version": 3
   },
   "file_extension": ".py",
   "mimetype": "text/x-python",
   "name": "python",
   "nbconvert_exporter": "python",
   "pygments_lexer": "ipython3",
   "version": "3.8.1"
  }
 },
 "nbformat": 4,
 "nbformat_minor": 5
}
